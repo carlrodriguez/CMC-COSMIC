{
 "cells": [
  {
   "cell_type": "code",
   "execution_count": 2,
   "metadata": {},
   "outputs": [],
   "source": [
    "import numpy as np\n",
    "import pandas as pd\n",
    "from scipy.stats import linregress\n",
    "import matplotlib.cm as cm\n",
    "pd.set_option('display.max_columns', None)\n",
    "from scipy import special\n",
    "from scipy import integrate\n",
    "from scipy.integrate import ode\n",
    "from scipy.optimize import brentq\n",
    "pi = np.pi\n",
    "\n",
    "import pdb\n",
    "import matplotlib.pyplot as plt\n",
    "import scipy.constants as ct\n",
    "\n",
    "from scipy.integrate import odeint, solve_ivp\n",
    "from scipy.special import jv #bessel function of the first kind\n",
    "from astropy.cosmology import Planck15 as cosmo\n",
    "from scipy.interpolate import interp1d"
   ]
  },
  {
   "cell_type": "code",
   "execution_count": 3,
   "metadata": {},
   "outputs": [],
   "source": [
    "def inspiral_time_peters(a0,e0,m1,m2,af=0):\n",
    "    \"\"\"\n",
    "    Computes the inspiral time, in Gyr, for a binary\n",
    "    a0 in Au, and masses in solar masses\n",
    "    \n",
    "    if different af is given, computes the time from a0,e0\n",
    "    to that af\n",
    "    \n",
    "    for af=0, just returns inspiral time\n",
    "    for af!=0, returns (t_insp,af,ef)\n",
    "    \"\"\"\n",
    "    coef = 6.086768e-11 #G^3 / c^5 in au, gigayear, solar mass units\n",
    "    beta = (64./5.) * coef * m1 * m2 * (m1+m2)\n",
    "    \n",
    "    if e0 == 0:\n",
    "        #print e0,a0\n",
    "        if not af == 0:\n",
    "            print(\"ERROR: doesn't work for circular binaries\")\n",
    "            return 0\n",
    "        return a0**4 / (4*beta)\n",
    "    \n",
    "    c0 = a0 * (1.-e0**2.) * e0**(-12./19.) * (1.+(121./304.)*e0**2.)**(-870./2299.)\n",
    "    \n",
    "    if af == 0:\n",
    "        eFinal = 0.\n",
    "    else:\n",
    "        r = ode(deda_peters)\n",
    "        r.set_integrator('lsoda')\n",
    "        r.set_initial_value(e0,a0)\n",
    "        r.integrate(af)\n",
    "        if not r.successful():\n",
    "            print(\"ERROR, Integrator failed!\")\n",
    "        else:\n",
    "            eFinal = r.y[0]      \n",
    "    \n",
    "    time_integrand = lambda e: e**(29./19.)*(1.+(121./304.)*e**2.)**(1181./2299.) / (1.-e**2.)**1.5\n",
    "    integral,abserr = integrate.quad(time_integrand,eFinal,e0)\n",
    "    \n",
    "    if af==0:\n",
    "        return integral * (12./19.) * c0**4. / beta\n",
    "    else:\n",
    "        return (integral * (12./19.) * c0**4. / beta), af, eFinal"
   ]
  },
  {
   "cell_type": "code",
   "execution_count": 15,
   "metadata": {},
   "outputs": [],
   "source": [
    "def dE_dT(m1,m2,a,e):\n",
    "    print(m1, m2, a)\n",
    "    '''\n",
    "    m1 and M2 in grams\n",
    "    a in cm \n",
    "    returns dE/dT in units of erg/s\n",
    "    '''\n",
    "    G = 6.67259*10**(-8)# cm3 gram-1 s-2\n",
    "    c =  2.99792458*10**10 #cm s-1\n",
    "    print(G**4 / c**5)\n",
    "    print((m1*m2)**2 * (m1 + m2))\n",
    "    print(a**5)\n",
    "    print((1 + (73/24) * e**2 + (37/96) * e**4)/(1 - e**2)**(7/2))\n",
    "    \n",
    "    return -(32/5) * ((G**4 * (m1)**2 * m2 * (m1 + m2) ) / (c**5 * a**5 * (1 - e**2)**(7/2))) * (1 + (73/24) * e**2 + (37/96) * e**4)\n",
    "    # return -(32/5) * ((G**4 * (m1)**2 * m2**2 * (m1 + m2) ) / (c**5 * a**5 * (1 - e**2)**(7/2))) * (1 + (73/24) * e**2 + (37/96) * e**4)\n",
    "\n",
    "# Hulse-Taylor Binary Pulsar (\n",
    "# m1 = 1.4411 #Msun\n",
    "# m2 = 1.3867#Msun\n",
    "# m1 *= Msun #convert to grams\n",
    "# m2 *= Msun \n",
    "# a = 1.9501 * Rsun\n",
    "# e = 0.6171\n",
    "\n",
    "\n",
    "# print(dE_dT(m1,m2,a,e) * m2) #erg/s"
   ]
  },
  {
   "cell_type": "code",
   "execution_count": 16,
   "metadata": {},
   "outputs": [
    {
     "name": "stdout",
     "output_type": "stream",
     "text": [
      "1.1334515400000001e+38 7.1935964100000005e+34 9.76227111e+16\n",
      "8.186047238099782e-82\n",
      "7.540090365046894e+183\n",
      "8.866542943532093e+84\n",
      "21676263018.741184\n",
      "In ergs/s de/dt =  -1.3425015411786425e-06\n",
      "In Joules, dE =  -1.5700151675992609\n",
      "\n",
      "6525.5822927807485 0.999148 56986.0 36.1669\n",
      "Inspiral time in Gyr is  1721.2222357039486\n"
     ]
    }
   ],
   "source": [
    "m1 = 56986\n",
    "m2 = 36.1669\n",
    "\n",
    "Msun = 1.989*10**33 #gram\n",
    "m1 *= Msun #convert to grams\n",
    "m2 *= Msun \n",
    "\n",
    "Rsun = 6.957e+10 # cm in one RSUN\n",
    "a = 1403230* Rsun\n",
    "e = 0.999148\n",
    "\n",
    "dt_s = 11694699182400.0\n",
    "\n",
    "peters = dE_dT(m1,m2,a,e) #in erg/s\n",
    "print(\"In ergs/s de/dt = \", peters )\n",
    "print(\"In Joules, dE = \", peters * dt_s * 10**(-7))\n",
    "print(\"\")\n",
    "\n",
    "AU = 1.496 * 10**13\n",
    "print(a/AU,e,m1/Msun,m2/Msun)\n",
    "t_insp = inspiral_time_peters(a/AU,e,m1/Msun,m2/Msun)\n",
    "\n",
    "print(\"Inspiral time in Gyr is \", t_insp)"
   ]
  },
  {
   "cell_type": "code",
   "execution_count": 11,
   "metadata": {},
   "outputs": [
    {
     "name": "stdout",
     "output_type": "stream",
     "text": [
      "1.1334515400000001e+38 8.353800000000001e+34 3600950157000000.0\n",
      "8.186047238099782e-82\n",
      "1.016943874817336e+184\n",
      "6.054601307706279e+77\n",
      "12374418233.141401\n",
      "In ergs/s de/dt =  -1.0889061363844197e+36\n",
      "In Joules, dE =  -1.2734429702885216e+42\n",
      "\n",
      "240.70522439839573 0.999 56986.0 42.0\n",
      "Inspiral time in Gyr is  0.004782169336776545\n"
     ]
    }
   ],
   "source": [
    "m1 = 56986\n",
    "m2 = 42\n",
    "\n",
    "Msun = 1.989*10**33 #gram\n",
    "m1 *= Msun #convert to grams\n",
    "m2 *= Msun \n",
    "\n",
    "Rsun = 6.957e+10 # cm in one RSUN\n",
    "a = 51760.1* Rsun\n",
    "e = 0.70152\n",
    "\n",
    "dt_s = 11694699182400.0\n",
    "\n",
    "peters = dE_dT(m1,m2,a,e) #in erg/s\n",
    "print(\"In ergs/s de/dt = \", peters )\n",
    "print(\"In Joules, dE = \", peters * dt_s * 10**(-7))\n",
    "print(\"\")\n",
    "\n",
    "AU = 1.496 * 10**13\n",
    "print(a/AU,e,m1/Msun,m2/Msun)\n",
    "t_insp = inspiral_time_peters(a/AU,e,m1/Msun,m2/Msun)\n",
    "\n",
    "print(\"Inspiral time in Gyr is \", t_insp)"
   ]
  },
  {
   "cell_type": "code",
   "execution_count": 17,
   "metadata": {},
   "outputs": [
    {
     "name": "stdout",
     "output_type": "stream",
     "text": [
      "-1.3425015411786425e-06\n",
      "Per unit mass in CMC code units -2.305218746254162e-08\n"
     ]
    }
   ],
   "source": [
    "#Converting back to code units \n",
    "l_conv = 1.23428e+19 #code unit of length in cgs\n",
    "tn_conv = 1.37787e+12 #NBody time in cgs\n",
    "\n",
    "dt = 8.48752\n",
    "print(peters)\n",
    "print('Per unit mass in CMC code units', peters * ((tn_conv)**3/(l_conv)**2))"
   ]
  },
  {
   "cell_type": "code",
   "execution_count": 12,
   "metadata": {},
   "outputs": [
    {
     "name": "stdout",
     "output_type": "stream",
     "text": [
      "-1.7590165126113933e-76\n",
      "-2.1920932341466267e-90\n"
     ]
    }
   ],
   "source": [
    "#Converting back to code units \n",
    "#First, make it per unit mass\n",
    "Msun = 1.989*10**33 #gram\n",
    "\n",
    "specificd_E_dT = dE_dT(m1,m2,a,e)/ (m2*Msun)\n",
    "print(specificd_E_dT)\n",
    "l_conv = 1.23428e+19\n",
    "tn_conv = 1.37787e+12\n",
    "#coverting to code units \n",
    "final_E = specificd_E_dT * (l_conv/tn_conv)**-2\n",
    "\n",
    "print(final_E)\n"
   ]
  },
  {
   "cell_type": "code",
   "execution_count": 8,
   "metadata": {},
   "outputs": [
    {
     "data": {
      "text/plain": [
       "11694699182400.0"
      ]
     },
     "execution_count": 8,
     "metadata": {},
     "output_type": "execute_result"
    }
   ],
   "source": [
    "8.48752*1.37787e+12"
   ]
  },
  {
   "cell_type": "code",
   "execution_count": null,
   "metadata": {},
   "outputs": [],
   "source": []
  }
 ],
 "metadata": {
  "kernelspec": {
   "display_name": "Python 3",
   "language": "python",
   "name": "python3"
  },
  "language_info": {
   "codemirror_mode": {
    "name": "ipython",
    "version": 3
   },
   "file_extension": ".py",
   "mimetype": "text/x-python",
   "name": "python",
   "nbconvert_exporter": "python",
   "pygments_lexer": "ipython3",
   "version": "3.10.14"
  }
 },
 "nbformat": 4,
 "nbformat_minor": 2
}
